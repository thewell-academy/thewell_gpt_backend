{
 "cells": [
  {
   "metadata": {
    "ExecuteTime": {
     "end_time": "2025-01-17T09:58:53.366628Z",
     "start_time": "2025-01-17T09:58:53.359508Z"
    }
   },
   "cell_type": "code",
   "source": [
    "from docx import Document\n",
    "from docx.oxml import OxmlElement\n",
    "import re\n",
    "from lxml import etree\n",
    "from latex2mathml.converter import convert\n",
    "import mathml2omml"
   ],
   "id": "7c6430f7b127cd4f",
   "outputs": [],
   "execution_count": 58
  },
  {
   "metadata": {
    "ExecuteTime": {
     "end_time": "2025-01-17T10:15:00.706742Z",
     "start_time": "2025-01-17T10:15:00.676687Z"
    }
   },
   "cell_type": "code",
   "source": [
    "from docx import Document\n",
    "from docx.oxml import OxmlElement\n",
    "from lxml import etree\n",
    "import re\n",
    "from latex2mathml.converter import convert\n",
    "import mathml2omml\n",
    "\n",
    "def create_omml_element(latex_code):\n",
    "    try:\n",
    "        mathml = convert(latex_code)\n",
    "        # print(f\"MathML: {mathml}\")\n",
    "    except Exception as e:\n",
    "        raise ValueError(f\"Error converting LaTeX to MathML: {e}\")\n",
    "\n",
    "    try:\n",
    "        omml = mathml2omml.convert(mathml)\n",
    "        # print(f\"OMML (before namespace fix): {omml}\")\n",
    "    except Exception as e:\n",
    "        raise ValueError(f\"Error converting MathML to OMML: {e}\")\n",
    "\n",
    "    if 'xmlns:m=' not in omml:\n",
    "        omml = omml.replace(\n",
    "            \"<m:oMath\",\n",
    "            '<m:oMath xmlns:m=\"http://schemas.openxmlformats.org/officeDocument/2006/math\"'\n",
    "        )\n",
    "\n",
    "    try:\n",
    "        omml_element = etree.fromstring(omml.encode('utf-8'))\n",
    "    except Exception as e:\n",
    "        raise ValueError(f\"Error parsing OMML: {e}\")\n",
    "\n",
    "    return omml_element\n",
    "def insert_omml(paragraph, latex_code):\n",
    "    omml_element = create_omml_element(latex_code)\n",
    "    paragraph._element.append(omml_element)\n",
    "\n",
    "def process_content_to_word(data):\n",
    "    \"\"\"\n",
    "    Process content into a Word document with LaTeX math equations, formatted text, and proper line breaks.\n",
    "    \"\"\"\n",
    "    document = Document()\n",
    "    paragraph = document.add_paragraph()  # Start with an initial paragraph\n",
    "\n",
    "    for item in data:\n",
    "        text = item['insert']\n",
    "        attributes = item.get('attributes', {})\n",
    "        latex_pattern = r\"\\[:(.*?)\\]\"  # Match LaTeX patterns\n",
    "        parts = re.split(latex_pattern, text)\n",
    "\n",
    "        for i, part in enumerate(parts):\n",
    "            if i % 2 == 0:\n",
    "                # Regular text\n",
    "                run = paragraph.add_run(part.rstrip(\"\\n\"))  # Remove trailing \\n for processing\n",
    "                if attributes.get('bold'):\n",
    "                    run.bold = True\n",
    "                if attributes.get('underline'):\n",
    "                    run.underline = True\n",
    "                if attributes.get('italic'):\n",
    "                    run.italic = True\n",
    "            else:\n",
    "                # LaTeX math code\n",
    "                insert_omml(paragraph, part)\n",
    "\n",
    "        # If the text ends with a newline, create a new paragraph\n",
    "        if text.endswith(\"\\n\"):\n",
    "            paragraph = document.add_paragraph()  # Start a new paragraph\n",
    "\n",
    "    document.save(\"output.docx\")\n",
    "\n",
    "# Example content\n",
    "content = [\n",
    "    {'insert': '수학공식 [:\\\\frac{1}{2} \\\\sum_{1}^{n} n^2]과 '},\n",
    "    {'insert': '다음 텍스트 \\n', 'attributes': {'bold': True, 'underline': True, 'italic': True}},\n",
    "    {'insert': '다음줄 텍스트 \\n', 'attributes': {'bold': True, 'underline': True, 'italic': True}},\n",
    "]\n",
    "\n",
    "# Process the content into a Word document\n",
    "process_content_to_word(content)"
   ],
   "id": "94ca1559fc773704",
   "outputs": [
    {
     "name": "stdout",
     "output_type": "stream",
     "text": [
      "MathML: <math xmlns=\"http://www.w3.org/1998/Math/MathML\" display=\"inline\"><mrow><mfrac><mrow><mn>1</mn></mrow><mrow><mn>2</mn></mrow></mfrac><msubsup><mo>&#x02211;</mo><mrow><mn>1</mn></mrow><mrow><mi>n</mi></mrow></msubsup><msup><mi>n</mi><mn>2</mn></msup></mrow></math>\n",
      "OMML (before namespace fix): <m:oMath><m:box><m:e><m:f><m:num><m:box><m:e><m:r><m:rPr><m:sty m:val=\"p\"/></m:rPr><m:t>1</m:t></m:r></m:e></m:box></m:num><m:den><m:box><m:e><m:r><m:rPr><m:sty m:val=\"p\"/></m:rPr><m:t>2</m:t></m:r></m:e></m:box></m:den></m:f><m:nary><m:naryPr><m:chr m:val=\"∑\"/><m:limLoc m:val=\"undOvr\"/></m:naryPr><m:sub><m:box><m:e><m:r><m:rPr><m:sty m:val=\"p\"/></m:rPr><m:t>1</m:t></m:r></m:e></m:box></m:sub><m:sup><m:box><m:e><m:r><m:rPr><m:sty m:val=\"i\"/></m:rPr><m:t>n</m:t></m:r></m:e></m:box></m:sup><m:e><m:sSup><m:e><m:r><m:rPr><m:sty m:val=\"i\"/></m:rPr><m:t>n</m:t></m:r></m:e><m:sup><m:r><m:rPr><m:sty m:val=\"p\"/></m:rPr><m:t>2</m:t></m:r></m:sup></m:sSup></m:e></m:nary></m:e></m:box></m:oMath>\n"
     ]
    }
   ],
   "execution_count": 73
  },
  {
   "metadata": {},
   "cell_type": "code",
   "outputs": [],
   "execution_count": null,
   "source": "",
   "id": "564443c6d9f9a836"
  }
 ],
 "metadata": {
  "kernelspec": {
   "display_name": "Python 3",
   "language": "python",
   "name": "python3"
  },
  "language_info": {
   "codemirror_mode": {
    "name": "ipython",
    "version": 2
   },
   "file_extension": ".py",
   "mimetype": "text/x-python",
   "name": "python",
   "nbconvert_exporter": "python",
   "pygments_lexer": "ipython2",
   "version": "2.7.6"
  }
 },
 "nbformat": 4,
 "nbformat_minor": 5
}
