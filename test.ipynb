{
 "cells": [
  {
   "metadata": {},
   "cell_type": "code",
   "outputs": [],
   "execution_count": null,
   "source": [
    "import re\n",
    "import json\n",
    "\n",
    "def preprocess_delta(delta_string):\n",
    "    # Step 1: Replace `{insert: }` with `{insert: \"\"}`\n",
    "    delta_string = re.sub(r'\\{insert:\\s*}', r'{\"insert\": \"\"}', delta_string)\n",
    "\n",
    "    # Step 2: Replace single quotes with double quotes for JSON compatibility\n",
    "    delta_string = delta_string.replace(\"'\", '\"')\n",
    "\n",
    "    # Step 3: Validate and parse JSON\n",
    "    try:\n",
    "        delta = json.loads(delta_string)\n",
    "    except json.JSONDecodeError as e:\n",
    "        raise ValueError(f\"Invalid Delta string: {e}\")\n",
    "\n",
    "    return delta\n",
    "\n",
    "# Example usage\n",
    "delta_string = \"[{insert: 문제, attributes: {underline: true}}, {insert:  }, {insert: 텍스트, attributes: {bold: true}}, {insert: . [:f(x)]의 }, {insert: 값은, attributes: {italic: true}}, {insert: ?}]\"\n",
    "delta = preprocess_delta(delta_string)\n",
    "print(delta)"
   ],
   "id": "70699e34c5467640"
  },
  {
   "metadata": {},
   "cell_type": "code",
   "outputs": [],
   "execution_count": null,
   "source": "",
   "id": "94ca1559fc773704"
  },
  {
   "metadata": {},
   "cell_type": "code",
   "outputs": [],
   "execution_count": null,
   "source": "",
   "id": "1bfc59652d78f40a"
  }
 ],
 "metadata": {
  "kernelspec": {
   "display_name": "Python 3",
   "language": "python",
   "name": "python3"
  },
  "language_info": {
   "codemirror_mode": {
    "name": "ipython",
    "version": 2
   },
   "file_extension": ".py",
   "mimetype": "text/x-python",
   "name": "python",
   "nbconvert_exporter": "python",
   "pygments_lexer": "ipython2",
   "version": "2.7.6"
  }
 },
 "nbformat": 4,
 "nbformat_minor": 5
}
